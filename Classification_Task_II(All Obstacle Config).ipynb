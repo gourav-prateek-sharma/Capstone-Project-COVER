{
  "nbformat": 4,
  "nbformat_minor": 0,
  "metadata": {
    "colab": {
      "provenance": [],
      "include_colab_link": true
    },
    "kernelspec": {
      "name": "python3",
      "display_name": "Python 3"
    },
    "language_info": {
      "name": "python"
    }
  },
  "cells": [
    {
      "cell_type": "markdown",
      "metadata": {
        "id": "view-in-github",
        "colab_type": "text"
      },
      "source": [
        "<a href=\"https://colab.research.google.com/github/gourav-prateek-sharma/Capstone-Project-COVER/blob/main/Classification_Task_II(All%20Obstacle%20Config).ipynb\" target=\"_parent\"><img src=\"https://colab.research.google.com/assets/colab-badge.svg\" alt=\"Open In Colab\"/></a>"
      ]
    },
    {
      "cell_type": "markdown",
      "source": [
        "# **Grid Code**"
      ],
      "metadata": {
        "id": "LKJVLKrYFHz6"
      }
    },
    {
      "cell_type": "code",
      "execution_count": 3,
      "metadata": {
        "id": "7tlIJsz_jn1-"
      },
      "outputs": [],
      "source": [
        "import numpy as np\n",
        "import itertools\n",
        "import matplotlib.pyplot as plt\n",
        "def create_grid(A, M, obstacle_prob=0.1):\n",
        "    N = int(np.sqrt(M))\n",
        "    grid = np.zeros((N, N), dtype=int)\n",
        "    num_obstacles = int(M * obstacle_prob)\n",
        "    obstacle_positions = np.random.choice(M, num_obstacles, replace=True)\n",
        "\n",
        "    for pos in obstacle_positions:\n",
        "        grid[pos // N, pos % N] = 1\n",
        "    return grid"
      ]
    },
    {
      "cell_type": "code",
      "source": [
        "def plot_grid(grid,tx):\n",
        "    plt.figure(figsize=(int(np.sqrt(M)), int(np.sqrt(M))))\n",
        "    plt.imshow(grid, cmap='viridis')\n",
        "\n",
        "    # Add gridlines\n",
        "    plt.grid(visible=True, color='white', linewidth=1, which='minor')\n",
        "\n",
        "    # Setting labels\n",
        "    plt.xticks(np.arange(grid.shape[1]), labels=np.arange(grid.shape[1]))\n",
        "    plt.yticks(np.arange(grid.shape[0]), labels=np.arange(grid.shape[0]))\n",
        "\n",
        "    # Setting gridlines\n",
        "    plt.xticks(np.arange(-0.5, grid.shape[1], 1), minor=True)\n",
        "    plt.yticks(np.arange(-0.5, grid.shape[0], 1), minor=True)\n",
        "\n",
        "    # Mark Transmitter\n",
        "    plt.scatter(tx[1], tx[0], color='green', s=100, label=f\"Transmitter {tx}\")\n",
        "\n",
        "    # Mark all Receivers (free cells)\n",
        "    rx_free = np.argwhere(grid == 0)\n",
        "    plt.scatter(rx_free[:, 1], rx_free[:, 0], color='blue', s=40, label=\"Receivers (Free cells)\")\n",
        "\n",
        "    plt.legend()\n",
        "    plt.title('Grid with Obstacles & All Signal Paths')\n",
        "    plt.show()\n"
      ],
      "metadata": {
        "id": "BPoQpejhlG51"
      },
      "execution_count": 4,
      "outputs": []
    },
    {
      "cell_type": "code",
      "source": [
        "import numpy as np\n",
        "import matplotlib.pyplot as plt\n",
        "\n",
        "def supercover_line(x0, y0, x1, y1):\n",
        "    points = []\n",
        "    dx = abs(x1 - x0)\n",
        "    dy = abs(y1 - y0)\n",
        "    x, y = x0, y0\n",
        "    n = 1 + dx + dy\n",
        "    x_inc = 1 if x1 > x0 else -1\n",
        "    y_inc = 1 if y1 > y0 else -1\n",
        "    error = dx - dy\n",
        "    dx *= 2\n",
        "    dy *= 2\n",
        "\n",
        "    for _ in range(n):\n",
        "        points.append((x, y))\n",
        "\n",
        "        if error > 0:\n",
        "            x += x_inc\n",
        "            error -= dy\n",
        "        else:\n",
        "            y += y_inc\n",
        "            error += dx\n",
        "\n",
        "    rows, cols = zip(*points)\n",
        "    return np.array(rows), np.array(cols)\n",
        "\n",
        "def coverage(grid,tx):\n",
        "    covered = np.zeros_like(grid)\n",
        "    # Loop over every cell in the grid\n",
        "    for i in range(grid.shape[0]):\n",
        "        for j in range(grid.shape[1]):\n",
        "            if grid[i, j] == 0:  # Free cell: receiver\n",
        "                rx = (i, j)\n",
        "                # Get the path using supercover\n",
        "                path_rows, path_cols = supercover_line(tx[0], tx[1], rx[0], rx[1])\n",
        "                # Check if any obstacle is in the path\n",
        "                obstacles = np.any(grid[path_rows, path_cols] == 1)\n",
        "                if not obstacles:\n",
        "                    # Mark the entire path as covered\n",
        "                    covered[path_rows, path_cols] = 1\n",
        "                else:\n",
        "                    # Do not mark receiver if obstacle exists\n",
        "                    covered[rx[0], rx[1]] = 0\n",
        "    return covered\n"
      ],
      "metadata": {
        "id": "r80SftLMjqjP"
      },
      "execution_count": 5,
      "outputs": []
    },
    {
      "cell_type": "code",
      "source": [
        "def count_blind_spots(grid, covered):\n",
        "    # Blind spot: free in grid but not covered\n",
        "    blind_spots = np.sum((grid == 0) & (covered == 0))\n",
        "    return blind_spots"
      ],
      "metadata": {
        "id": "W9SnDuj5j0j6"
      },
      "execution_count": 6,
      "outputs": []
    },
    {
      "cell_type": "code",
      "source": [
        "def brute_force_best_transmitter(grid):\n",
        "    free_cells = np.argwhere(grid == 0)\n",
        "    min_blind_spots = np.inf\n",
        "    best_tx = []\n",
        "    t=[]\n",
        "    for tx in free_cells:\n",
        "      t.append(tx)\n",
        "      covered = coverage(grid, tx)\n",
        "      blind_spots = count_blind_spots(grid, covered)\n",
        "\n",
        "      if blind_spots<min_blind_spots:\n",
        "          min_blind_spots=blind_spots\n",
        "          best_tx=[tx]\n",
        "      elif blind_spots == min_blind_spots:\n",
        "            best_tx.append(tx)\n",
        "    return min_blind_spots, best_tx\n"
      ],
      "metadata": {
        "id": "rMBy6G3Jj1D9"
      },
      "execution_count": 7,
      "outputs": []
    },
    {
      "cell_type": "code",
      "source": [
        "A = 10  # Size of area\n",
        "M = 16  # Number of cells\n",
        "\n",
        "# Generate the grid\n",
        "np.random.seed(42)#makes obstacle position constant that is obstacle at the same position every time\n",
        "grid = create_grid(A, M, obstacle_prob=0.1)\n",
        "print(\"Grid with Obstacles:\")\n",
        "print(grid)\n",
        "\n",
        "tx=(0,1)\n",
        "covered = coverage(grid,tx)\n",
        "plot_grid(grid,tx)\n",
        "# Count blind spots\n",
        "blind_spots = count_blind_spots(grid, covered)\n",
        "print(f\"Blind Spots: {blind_spots}\")\n",
        "\n",
        "# Find best transmitter placement\n",
        "min_blind_spots, best_tx = brute_force_best_transmitter(grid)\n",
        "print(f\"Best Transmitter Placement: {best_tx}\")\n",
        "print(f\"Minimum Blind Spots: {min_blind_spots}\")\n"
      ],
      "metadata": {
        "colab": {
          "base_uri": "https://localhost:8080/",
          "height": 0
        },
        "id": "TsmIRQ4BjxSC",
        "outputId": "44afc22b-c9e6-48ab-daf4-a5102e213981"
      },
      "execution_count": 8,
      "outputs": [
        {
          "output_type": "stream",
          "name": "stdout",
          "text": [
            "Grid with Obstacles:\n",
            "[[0 0 0 0]\n",
            " [0 0 1 0]\n",
            " [0 0 0 0]\n",
            " [0 0 0 0]]\n"
          ]
        },
        {
          "output_type": "display_data",
          "data": {
            "text/plain": [
              "<Figure size 400x400 with 1 Axes>"
            ],
            "image/png": "[encoded data removed]"
          },
          "metadata": {}
        },
        {
          "output_type": "stream",
          "name": "stdout",
          "text": [
            "Blind Spots: 5\n",
            "Best Transmitter Placement: [array([3, 2])]\n",
            "Minimum Blind Spots: 1\n"
          ]
        }
      ]
    },
    {
      "cell_type": "markdown",
      "source": [
        "# Classfication Task-II:All Obstacle Configuration\n"
      ],
      "metadata": {
        "id": "v3IHGvmiqgqq"
      }
    },
    {
      "cell_type": "code",
      "source": [
        "import pandas as pd\n",
        "import matplotlib.pyplot as plt\n",
        "def generate_dataset(grid_size, obstacle_prob=0.3,seen_configs=None):\n",
        "    dataset_X = []\n",
        "    dataset_y = []\n",
        "    A = 10\n",
        "    M = grid_size ** 2\n",
        "    grid = create_grid(A, M, obstacle_prob)\n",
        "    N = grid.shape[0]\n",
        "    free_cells = [(i, j) for i in range(N) for j in range(N) if grid[i, j] == 0]\n",
        "    if free_cells == []:\n",
        "      return pd.DataFrame()\n",
        "    tx=free_cells[0]\n",
        "    plot_grid(grid,tx)\n",
        "    covered = coverage(grid, tx)\n",
        "    for i in range(N):\n",
        "        for j in range(N):\n",
        "            features = [\n",
        "                i,\n",
        "                j,\n",
        "                grid[i, j],\n",
        "                tx[0],\n",
        "                tx[1],\n",
        "                covered[i, j]\n",
        "            ]\n",
        "            if grid[i, j] == 0 and covered[i,j]==0:\n",
        "                label = 1\n",
        "            else:\n",
        "              label = 0\n",
        "            dataset_X.append(features)\n",
        "            dataset_y.append(label)\n",
        "\n",
        "\n",
        "    full_data = list(zip(dataset_X, dataset_y))\n",
        "    np.random.shuffle(full_data)\n",
        "\n",
        "    dataset_X, dataset_y = zip(*full_data)\n",
        "\n",
        "    df = pd.DataFrame(dataset_X, columns=['row', 'col', 'obstacle', 'tx_row', 'tx_column', 'covered'])\n",
        "    df['Blindspot(blocked=1/not blocked=0)'] = dataset_y\n",
        "\n",
        "    return df\n",
        "\n",
        "# Generate and print the dataset\n",
        "train = generate_dataset(grid_size=3)\n",
        "train.to_csv(\"train.csv\", index=False)\n",
        "print(train)"
      ],
      "metadata": {
        "colab": {
          "base_uri": "https://localhost:8080/",
          "height": 774
        },
        "id": "a_IgIciUnITg",
        "outputId": "2a2dde4b-a10b-46a8-c602-85fd661c6960"
      },
      "execution_count": 34,
      "outputs": [
        {
          "output_type": "display_data",
          "data": {
            "text/plain": [
              "<Figure size 400x400 with 1 Axes>"
            ],
            "image/png": "[encoded data removed]"
          },
          "metadata": {}
        },
        {
          "output_type": "stream",
          "name": "stdout",
          "text": [
            "   row  col  obstacle  tx_row  tx_column  covered  \\\n",
            "0    0    1         0       0          0        1   \n",
            "1    2    0         1       0          0        0   \n",
            "2    2    2         0       0          0        1   \n",
            "3    1    2         0       0          0        1   \n",
            "4    1    1         0       0          0        1   \n",
            "5    0    2         1       0          0        0   \n",
            "6    0    0         0       0          0        1   \n",
            "7    2    1         0       0          0        1   \n",
            "8    1    0         0       0          0        1   \n",
            "\n",
            "   Blindspot(blocked=1/not blocked=0)  \n",
            "0                                   0  \n",
            "1                                   0  \n",
            "2                                   0  \n",
            "3                                   0  \n",
            "4                                   0  \n",
            "5                                   0  \n",
            "6                                   0  \n",
            "7                                   0  \n",
            "8                                   0  \n"
          ]
        }
      ]
    },
    {
      "cell_type": "code",
      "source": [
        "from itertools import product\n",
        "import pandas as pd\n",
        "import numpy as np\n",
        "\n",
        "def generate_test_dataset_all_configs(grid_size):\n",
        "    dataset_X = []\n",
        "    dataset_y = []\n",
        "    grid_ids = []\n",
        "    seen_configs = set()\n",
        "\n",
        "    total_cells = grid_size * grid_size\n",
        "    all_configs = list(product([0, 1], repeat=total_cells))\n",
        "\n",
        "    grid_id = 1\n",
        "\n",
        "    for flat_config in all_configs:\n",
        "        grid = np.array(flat_config).reshape((grid_size, grid_size))\n",
        "        config_tuple = tuple(grid.flatten())\n",
        "\n",
        "        if config_tuple in seen_configs:\n",
        "            continue\n",
        "        seen_configs.add(config_tuple)\n",
        "\n",
        "        free_cells = [(i, j) for i in range(grid_size) for j in range(grid_size) if grid[i, j] == 0]\n",
        "\n",
        "        if free_cells:\n",
        "            tx = free_cells[0]\n",
        "            covered = coverage(grid, tx)\n",
        "        else:\n",
        "            tx = (-1, -1)\n",
        "            covered = np.zeros((grid_size, grid_size), dtype=int)\n",
        "\n",
        "        for i in range(grid_size):\n",
        "            for j in range(grid_size):\n",
        "                features = [i, j, grid[i, j], tx[0], tx[1], covered[i, j]]\n",
        "                label = 1 if grid[i, j] == 0 and covered[i, j] == 0 else 0\n",
        "                dataset_X.append(features)\n",
        "                dataset_y.append(label)\n",
        "                grid_ids.append(grid_id)\n",
        "\n",
        "        grid_id += 1\n",
        "\n",
        "    df = pd.DataFrame(dataset_X, columns=['row', 'col', 'obstacle', 'tx_row', 'tx_column', 'covered'])\n",
        "    df['Blindspot(blocked=1/not blocked=0)'] = dataset_y\n",
        "    df['grid_id'] = grid_ids\n",
        "    return df\n"
      ],
      "metadata": {
        "id": "WwDcP17mKjll"
      },
      "execution_count": 29,
      "outputs": []
    },
    {
      "cell_type": "code",
      "source": [
        "test = generate_test_dataset_all_configs(grid_size=3)\n",
        "test.to_csv(\"test.csv\", index=False)\n",
        "print(test.head())\n"
      ],
      "metadata": {
        "id": "WxGYPbTWIjcW",
        "outputId": "6abf2792-6013-4b69-f4e4-51e68160c4ac",
        "colab": {
          "base_uri": "https://localhost:8080/"
        }
      },
      "execution_count": 35,
      "outputs": [
        {
          "output_type": "stream",
          "name": "stdout",
          "text": [
            "   row  col  obstacle  tx_row  tx_column  covered  \\\n",
            "0    0    0         0       0          0        1   \n",
            "1    0    1         0       0          0        1   \n",
            "2    0    2         0       0          0        1   \n",
            "3    1    0         0       0          0        1   \n",
            "4    1    1         0       0          0        1   \n",
            "\n",
            "   Blindspot(blocked=1/not blocked=0)  grid_id  \n",
            "0                                   0        1  \n",
            "1                                   0        1  \n",
            "2                                   0        1  \n",
            "3                                   0        1  \n",
            "4                                   0        1  \n"
          ]
        }
      ]
    },
    {
      "cell_type": "code",
      "source": [
        "import pandas as pd\n",
        "from sklearn.model_selection import train_test_split\n",
        "from sklearn.ensemble import RandomForestClassifier\n",
        "from sklearn.metrics import classification_report\n",
        "'''data = pd.read_csv(\"grid_dataset.csv\")\n",
        "data['tx_pos'] = '('+data['tx_row'].astype(str) + ',' + data['tx_column'].astype(str)+')'\n",
        "\n",
        "unique_transmitters = data['tx_pos'].unique()\n",
        "train_tx, test_tx = train_test_split(unique_transmitters, test_size=0.3, shuffle=True,random_state=30)\n",
        "#print(train_tx.shape)\n",
        "print(test_tx)'''\n",
        "\n",
        "train_data = pd.read_csv(\"train.csv\")\n",
        "test_data = pd.read_csv(\"test.csv\")\n",
        "\n",
        "X_train = train_data.drop(['Blindspot(blocked=1/not blocked=0)','covered'], axis=1)\n",
        "y_train = train_data['Blindspot(blocked=1/not blocked=0)']\n",
        "X_test = test_data.drop(['Blindspot(blocked=1/not blocked=0)', 'covered','grid_id'], axis=1)\n",
        "y_test = test_data['Blindspot(blocked=1/not blocked=0)']\n",
        "\n",
        "clf = RandomForestClassifier(n_estimators=100,bootstrap=True,random_state=30)\n",
        "clf.fit(X_train, y_train)\n",
        "\n",
        "y_pred = clf.predict(X_test)\n",
        "\n",
        "print(\"\\n## Blind Spot Classification Report\\n\")\n",
        "print(classification_report(y_test, y_pred))\n"
      ],
      "metadata": {
        "id": "NinyHI-vn4gg",
        "colab": {
          "base_uri": "https://localhost:8080/"
        },
        "outputId": "89747401-2e5b-4160-d305-25715d956f5b"
      },
      "execution_count": 36,
      "outputs": [
        {
          "output_type": "stream",
          "name": "stdout",
          "text": [
            "\n",
            "## Blind Spot Classification Report\n",
            "\n",
            "              precision    recall  f1-score   support\n",
            "\n",
            "           0       0.81      1.00      0.90      3751\n",
            "           1       0.00      0.00      0.00       857\n",
            "\n",
            "    accuracy                           0.81      4608\n",
            "   macro avg       0.41      0.50      0.45      4608\n",
            "weighted avg       0.66      0.81      0.73      4608\n",
            "\n"
          ]
        },
        {
          "output_type": "stream",
          "name": "stderr",
          "text": [
            "/usr/local/lib/python3.11/dist-packages/sklearn/metrics/_classification.py:1565: UndefinedMetricWarning: Precision is ill-defined and being set to 0.0 in labels with no predicted samples. Use `zero_division` parameter to control this behavior.\n",
            "  _warn_prf(average, modifier, f\"{metric.capitalize()} is\", len(result))\n",
            "/usr/local/lib/python3.11/dist-packages/sklearn/metrics/_classification.py:1565: UndefinedMetricWarning: Precision is ill-defined and being set to 0.0 in labels with no predicted samples. Use `zero_division` parameter to control this behavior.\n",
            "  _warn_prf(average, modifier, f\"{metric.capitalize()} is\", len(result))\n",
            "/usr/local/lib/python3.11/dist-packages/sklearn/metrics/_classification.py:1565: UndefinedMetricWarning: Precision is ill-defined and being set to 0.0 in labels with no predicted samples. Use `zero_division` parameter to control this behavior.\n",
            "  _warn_prf(average, modifier, f\"{metric.capitalize()} is\", len(result))\n"
          ]
        }
      ]
    }
  ]
}