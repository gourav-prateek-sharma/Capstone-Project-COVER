{
  "nbformat": 4,
  "nbformat_minor": 0,
  "metadata": {
    "colab": {
      "provenance": [],
      "include_colab_link": true
    },
    "kernelspec": {
      "name": "python3",
      "display_name": "Python 3"
    },
    "language_info": {
      "name": "python"
    }
  },
  "cells": [
    {
      "cell_type": "markdown",
      "metadata": {
        "id": "view-in-github",
        "colab_type": "text"
      },
      "source": [
        "<a href=\"https://colab.research.google.com/github/gourav-prateek-sharma/Capstone-Project-COVER/blob/main/Brute_force(Grid_Formation).ipynb\" target=\"_parent\"><img src=\"https://colab.research.google.com/assets/colab-badge.svg\" alt=\"Open In Colab\"/></a>"
      ]
    },
    {
      "cell_type": "code",
      "execution_count": 1,
      "metadata": {
        "id": "7tlIJsz_jn1-"
      },
      "outputs": [],
      "source": [
        "import numpy as np\n",
        "import itertools\n",
        "import matplotlib.pyplot as plt\n",
        "def create_grid(A, M, obstacle_prob=0.1):\n",
        "    N = int(np.sqrt(M))\n",
        "    grid = np.zeros((N, N), dtype=int)\n",
        "    num_obstacles = int(M * obstacle_prob)\n",
        "    obstacle_positions = np.random.choice(M, num_obstacles, replace=False)\n",
        "\n",
        "    for pos in obstacle_positions:\n",
        "        grid[pos // N, pos % N] = 1\n",
        "    return grid"
      ]
    },
    {
      "cell_type": "code",
      "source": [
        "def plot_grid(grid,tx):\n",
        "    plt.figure(figsize=(int(np.sqrt(M)), int(np.sqrt(M))))\n",
        "    plt.imshow(grid, cmap='viridis')\n",
        "\n",
        "    # Add gridlines\n",
        "    plt.grid(visible=True, color='white', linewidth=1, which='minor')\n",
        "\n",
        "    # Setting labels\n",
        "    plt.xticks(np.arange(grid.shape[1]), labels=np.arange(grid.shape[1]))\n",
        "    plt.yticks(np.arange(grid.shape[0]), labels=np.arange(grid.shape[0]))\n",
        "\n",
        "    # Setting gridlines\n",
        "    plt.xticks(np.arange(-0.5, grid.shape[1], 1), minor=True)\n",
        "    plt.yticks(np.arange(-0.5, grid.shape[0], 1), minor=True)\n",
        "\n",
        "    # Mark Transmitter\n",
        "    plt.scatter(tx[1], tx[0], color='green', s=100, label=f\"Transmitter {tx}\")\n",
        "\n",
        "    # Mark all Receivers (free cells)\n",
        "    rx_free = np.argwhere(grid == 0)\n",
        "    plt.scatter(rx_free[:, 1], rx_free[:, 0], color='blue', s=40, label=\"Receivers (Free cells)\")\n",
        "\n",
        "    plt.legend()\n",
        "    plt.title('Grid with Obstacles & All Signal Paths')\n",
        "    plt.show()\n"
      ],
      "metadata": {
        "id": "BPoQpejhlG51"
      },
      "execution_count": 2,
      "outputs": []
    },
    {
      "cell_type": "code",
      "source": [
        "import numpy as np\n",
        "import matplotlib.pyplot as plt\n",
        "\n",
        "def supercover_line(x0, y0, x1, y1):\n",
        "    points = []\n",
        "    dx = abs(x1 - x0)\n",
        "    dy = abs(y1 - y0)\n",
        "    x, y = x0, y0\n",
        "    n = 1 + dx + dy\n",
        "    x_inc = 1 if x1 > x0 else -1\n",
        "    y_inc = 1 if y1 > y0 else -1\n",
        "    error = dx - dy\n",
        "    dx *= 2\n",
        "    dy *= 2\n",
        "\n",
        "    for _ in range(n):\n",
        "        points.append((x, y))\n",
        "\n",
        "        if error > 0:\n",
        "            x += x_inc\n",
        "            error -= dy\n",
        "        else:\n",
        "            y += y_inc\n",
        "            error += dx\n",
        "\n",
        "    rows, cols = zip(*points)\n",
        "    return np.array(rows), np.array(cols)\n",
        "\n",
        "def coverage(grid,tx):\n",
        "    covered = np.zeros_like(grid)\n",
        "    # Loop over every cell in the grid\n",
        "    for i in range(grid.shape[0]):\n",
        "        for j in range(grid.shape[1]):\n",
        "            if grid[i, j] == 0:  # Free cell: receiver\n",
        "                rx = (i, j)\n",
        "                # Get the path using supercover\n",
        "                path_rows, path_cols = supercover_line(tx[0], tx[1], rx[0], rx[1])\n",
        "                # Check if any obstacle is in the path\n",
        "                obstacles = np.any(grid[path_rows, path_cols] == 1)\n",
        "                if not obstacles:\n",
        "                    # Mark the entire path as covered\n",
        "                    covered[path_rows, path_cols] = 1\n",
        "                else:\n",
        "                    # Do not mark receiver if obstacle exists\n",
        "                    covered[rx[0], rx[1]] = 0\n",
        "    return covered\n"
      ],
      "metadata": {
        "id": "r80SftLMjqjP"
      },
      "execution_count": 3,
      "outputs": []
    },
    {
      "cell_type": "code",
      "source": [
        "def count_blind_spots(grid, covered):\n",
        "    # Blind spot: free in grid but not covered\n",
        "    blind_spots = np.sum((grid == 0) & (covered == 0))\n",
        "    return blind_spots"
      ],
      "metadata": {
        "id": "W9SnDuj5j0j6"
      },
      "execution_count": 4,
      "outputs": []
    },
    {
      "cell_type": "code",
      "source": [
        "def brute_force_best_transmitter(grid):\n",
        "    free_cells = np.argwhere(grid == 0)\n",
        "    min_blind_spots = np.inf\n",
        "    best_tx = []\n",
        "    t=[]\n",
        "    for tx in free_cells:\n",
        "      t.append(tx)\n",
        "      covered = coverage(grid, tx)\n",
        "      blind_spots = count_blind_spots(grid, covered)\n",
        "\n",
        "      if blind_spots<=min_blind_spots:\n",
        "          min_blind_spots=blind_spots\n",
        "          best_tx.append(tx)\n",
        "    covered = coverage(grid,best_tx[0])\n",
        "    if count_blind_spots(grid,covered)!=min_blind_spots:\n",
        "      best_tx.pop(0)\n",
        "    return min_blind_spots, best_tx\n"
      ],
      "metadata": {
        "id": "rMBy6G3Jj1D9"
      },
      "execution_count": 8,
      "outputs": []
    },
    {
      "cell_type": "code",
      "source": [
        "A = 10  # Size of area\n",
        "M = 100  # Number of cells\n",
        "\n",
        "# Generate the grid\n",
        "np.random.seed(42)#makes obstacle position constant that is obstacle at the same position every time\n",
        "grid = create_grid(A, M, obstacle_prob=0.1)\n",
        "print(\"Grid with Obstacles:\")\n",
        "print(grid)\n",
        "\n",
        "tx=(0,1)\n",
        "covered = coverage(grid,tx)\n",
        "plot_grid(grid,tx)\n",
        "# Count blind spots\n",
        "blind_spots = count_blind_spots(grid, covered)\n",
        "print(f\"Blind Spots: {blind_spots}\")\n",
        "\n",
        "# Find best transmitter placement\n",
        "min_blind_spots, best_tx = brute_force_best_transmitter(grid)\n",
        "print(f\"Best Transmitter Placement: {best_tx}\")\n",
        "print(f\"Minimum Blind Spots: {min_blind_spots}\")\n",
        "\n",
        "\n"
      ],
      "metadata": {
        "colab": {
          "base_uri": "https://localhost:8080/",
          "height": 1000
        },
        "id": "TsmIRQ4BjxSC",
        "outputId": "5a41bb0b-16dc-48b5-af92-9848111fc720"
      },
      "execution_count": 9,
      "outputs": [
        {
          "output_type": "stream",
          "name": "stdout",
          "text": [
            "Grid with Obstacles:\n",
            "[[1 0 0 0 0 0 0 0 0 0]\n",
            " [1 0 0 0 0 0 0 0 0 0]\n",
            " [0 0 1 0 0 0 0 0 0 0]\n",
            " [0 0 0 0 0 0 0 0 0 1]\n",
            " [0 0 0 0 1 1 0 0 0 0]\n",
            " [0 0 0 1 0 0 0 0 0 0]\n",
            " [0 0 0 0 0 0 0 0 0 0]\n",
            " [1 0 0 0 0 0 0 0 0 0]\n",
            " [1 0 0 1 0 0 0 0 0 0]\n",
            " [0 0 0 0 0 0 0 0 0 0]]\n"
          ]
        },
        {
          "output_type": "display_data",
          "data": {
            "text/plain": [
              "<Figure size 1000x1000 with 1 Axes>"
            ],
            "image/png": "[encoded data removed]"
          },
          "metadata": {}
        },
        {
          "output_type": "stream",
          "name": "stdout",
          "text": [
            "Blind Spots: 31\n",
            "Best Transmitter Placement: [array([0, 4]), array([0, 5]), array([0, 6]), array([0, 7]), array([0, 8]), array([3, 8])]\n",
            "Minimum Blind Spots: 17\n"
          ]
        }
      ]
    }
  ]
}