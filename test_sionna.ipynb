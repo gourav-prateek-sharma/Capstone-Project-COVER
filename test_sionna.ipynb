{
  "nbformat": 4,
  "nbformat_minor": 0,
  "metadata": {
    "colab": {
      "provenance": [],
      "authorship_tag": "ABX9TyMLZE90wbYORKOQjliqlGr2",
      "include_colab_link": true
    },
    "kernelspec": {
      "name": "python3",
      "display_name": "Python 3"
    },
    "language_info": {
      "name": "python"
    }
  },
  "cells": [
    {
      "cell_type": "markdown",
      "metadata": {
        "id": "view-in-github",
        "colab_type": "text"
      },
      "source": [
        "<a href=\"https://colab.research.google.com/github/gourav-prateek-sharma/Capstone-Project-COVER/blob/main/test_sionna.ipynb\" target=\"_parent\"><img src=\"https://colab.research.google.com/assets/colab-badge.svg\" alt=\"Open In Colab\"/></a>"
      ]
    },
    {
      "cell_type": "code",
      "source": [
        "# Import or install Sionna\n",
        "try:\n",
        "    import sionna.rt\n",
        "except ImportError as e:\n",
        "    import os\n",
        "    os.system(\"pip install sionna-rt\")\n",
        "    import sionna.rt\n",
        "\n",
        "# Other imports\n",
        "%matplotlib inline\n",
        "import matplotlib.pyplot as plt\n",
        "import numpy as np\n",
        "\n",
        "no_preview = True # Toggle to False to use the preview widget\n",
        "\n",
        "# Import relevant components from Sionna RT\n",
        "from sionna.rt import load_scene, PlanarArray, Transmitter, Receiver, Camera,\\\n",
        "                      PathSolver, RadioMapSolver, subcarrier_frequencies"
      ],
      "metadata": {
        "id": "U2Ez6FwkVF-F"
      },
      "execution_count": 1,
      "outputs": []
    },
    {
      "cell_type": "code",
      "source": [],
      "metadata": {
        "id": "27ma9jL1d0ZY"
      },
      "execution_count": null,
      "outputs": []
    }
  ]
}