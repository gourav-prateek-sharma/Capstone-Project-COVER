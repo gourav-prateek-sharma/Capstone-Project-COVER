{
  "nbformat": 4,
  "nbformat_minor": 0,
  "metadata": {
    "colab": {
      "provenance": [],
      "authorship_tag": "ABX9TyObC2esizheNBVrGvSSgriy",
      "include_colab_link": true
    },
    "kernelspec": {
      "name": "python3",
      "display_name": "Python 3"
    },
    "language_info": {
      "name": "python"
    }
  },
  "cells": [
    {
      "cell_type": "markdown",
      "metadata": {
        "id": "view-in-github",
        "colab_type": "text"
      },
      "source": [
        "<a href=\"https://colab.research.google.com/github/gourav-prateek-sharma/Capstone-Project-COVER/blob/main/test_sionna.ipynb\" target=\"_parent\"><img src=\"https://colab.research.google.com/assets/colab-badge.svg\" alt=\"Open In Colab\"/></a>"
      ]
    },
    {
      "cell_type": "code",
      "source": [
        "# Import or install Sionna\n",
        "try:\n",
        "    import sionna.rt\n",
        "except ImportError as e:\n",
        "    import os\n",
        "    os.system(\"pip install sionna-rt\")\n",
        "    import sionna.rt\n",
        "\n",
        "# Other imports\n",
        "%matplotlib inline\n",
        "import matplotlib.pyplot as plt\n",
        "import numpy as np\n",
        "\n",
        "no_preview = True # Toggle to False to use the preview widget\n",
        "\n",
        "# Import relevant components from Sionna RT\n",
        "from sionna.rt import load_scene, PlanarArray, Transmitter, Receiver, Camera,\\\n",
        "                      PathSolver, RadioMapSolver, subcarrier_frequencies"
      ],
      "metadata": {
        "id": "U2Ez6FwkVF-F"
      },
      "execution_count": 1,
      "outputs": []
    },
    {
      "cell_type": "code",
      "source": [
        "# Load integrated scene\n",
        "scene = load_scene(sionna.rt.scene.munich) # Try also sionna.rt.scene.etoile"
      ],
      "metadata": {
        "id": "tYIiHmvunlqx"
      },
      "execution_count": 2,
      "outputs": []
    },
    {
      "cell_type": "code",
      "source": [
        "if not no_preview:\n",
        "    scene.preview();"
      ],
      "metadata": {
        "id": "_D87_85InndS"
      },
      "execution_count": 6,
      "outputs": []
    },
    {
      "cell_type": "code",
      "source": [
        "scene = load_scene(sionna.rt.scene.munich, merge_shapes=True) # Merge shapes to speed-up computations\n",
        "\n",
        "# Configure antenna array for all transmitters\n",
        "scene.tx_array = PlanarArray(num_rows=1,\n",
        "                             num_cols=1,\n",
        "                             vertical_spacing=0.5,\n",
        "                             horizontal_spacing=0.5,\n",
        "                             pattern=\"tr38901\",\n",
        "                             polarization=\"V\")\n",
        "\n",
        "# Configure antenna array for all receivers\n",
        "scene.rx_array = PlanarArray(num_rows=1,\n",
        "                             num_cols=1,\n",
        "                             vertical_spacing=0.5,\n",
        "                             horizontal_spacing=0.5,\n",
        "                             pattern=\"dipole\",\n",
        "                             polarization=\"cross\")\n",
        "\n",
        "# Create transmitter\n",
        "tx = Transmitter(name=\"tx\",\n",
        "                 position=[8.5,21,27],\n",
        "                 display_radius=2)\n",
        "\n",
        "# Add transmitter instance to scene\n",
        "scene.add(tx)\n",
        "\n",
        "# Create a receiver\n",
        "rx = Receiver(name=\"rx\",\n",
        "              position=[45,90,1.5],\n",
        "              display_radius=2)\n",
        "\n",
        "# Add receiver instance to scene\n",
        "scene.add(rx)\n",
        "\n",
        "tx.look_at(rx) # Transmitter points towards receiver"
      ],
      "metadata": {
        "id": "SULkroG9nnYB"
      },
      "execution_count": 5,
      "outputs": []
    },
    {
      "cell_type": "code",
      "source": [
        "# Instantiate a path solver\n",
        "# The same path solver can be used with multiple scenes\n",
        "p_solver  = PathSolver()\n",
        "\n",
        "# Compute propagation paths\n",
        "paths = p_solver(scene=scene,\n",
        "                 max_depth=5,\n",
        "                 los=True,\n",
        "                 specular_reflection=True,\n",
        "                 diffuse_reflection=False,\n",
        "                 refraction=True,\n",
        "                 synthetic_array=False,\n",
        "                 seed=41)"
      ],
      "metadata": {
        "id": "BDDZgBGunnRt"
      },
      "execution_count": 7,
      "outputs": []
    },
    {
      "cell_type": "code",
      "source": [],
      "metadata": {
        "id": "sKcgGe3uoL5R"
      },
      "execution_count": null,
      "outputs": []
    }
  ]
}